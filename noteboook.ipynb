{
  "cells": [
    {
      "cell_type": "markdown",
      "metadata": {
        "id": "view-in-github",
        "colab_type": "text"
      },
      "source": [
        "<a href=\"https://colab.research.google.com/github/Zkeera/Project-Analisis-Data/blob/main/noteboook.ipynb\" target=\"_parent\"><img src=\"https://colab.research.google.com/assets/colab-badge.svg\" alt=\"Open In Colab\"/></a>"
      ]
    },
    {
      "cell_type": "markdown",
      "metadata": {
        "id": "H9wADwK78DCz"
      },
      "source": [
        "# Proyek Analisis Data: [Bike Sharing Dataset]\n",
        "- **Nama:** [Mohammad Taqi Ashiddiqi]\n",
        "- **Email:** [mohammadtaqi029@gmail.com]\n",
        "- **ID Dicoding:** [MC361D5Y0526]\n",
        "\n",
        "\n"
      ]
    },
    {
      "cell_type": "markdown",
      "metadata": {
        "id": "eE0raob58DC0"
      },
      "source": [
        "## Menentukan Pertanyaan Bisnis"
      ]
    },
    {
      "cell_type": "markdown",
      "metadata": {
        "id": "GmQeQ5YF8DC0"
      },
      "source": [
        "- Bagaimana pengaruh cuaca terhadap jumlah penyewaan sepeda?\n",
        "- Apakah terdapat perbedaan pola penyewaan antara hari kerja dan akhir pekan?"
      ]
    },
    {
      "cell_type": "markdown",
      "metadata": {
        "id": "H-z4QGlO8DC1"
      },
      "source": [
        "## Import Semua Packages/Library yang Digunakan"
      ]
    },
    {
      "cell_type": "code",
      "execution_count": null,
      "metadata": {
        "id": "FVYwaObI8DC1"
      },
      "outputs": [],
      "source": [
        "import numpy as np\n",
        "import pandas as pd\n",
        "import matplotlib.pyplot as plt\n",
        "import seaborn as sns"
      ]
    },
    {
      "cell_type": "markdown",
      "metadata": {
        "id": "h_Sh51Xy8DC1"
      },
      "source": [
        "## Data Wrangling"
      ]
    },
    {
      "cell_type": "markdown",
      "metadata": {
        "id": "sXU2GBYu8DC1"
      },
      "source": [
        "### Gathering Data"
      ]
    },
    {
      "cell_type": "code",
      "execution_count": null,
      "metadata": {
        "id": "zjCBk1BI8DC1",
        "collapsed": true
      },
      "outputs": [],
      "source": [
        "day_df = pd.read_csv(\"https://raw.githubusercontent.com/Zkeera/Project-Analisis-Data/refs/heads/main/day.csv\")\n",
        "day_df.head()"
      ]
    },
    {
      "cell_type": "code",
      "source": [
        "hour_df = pd.read_csv(\"https://raw.githubusercontent.com/Zkeera/Project-Analisis-Data/refs/heads/main/hour.csv\")\n",
        "hour_df.head()"
      ],
      "metadata": {
        "collapsed": true,
        "id": "l41EepWvlxTd"
      },
      "execution_count": null,
      "outputs": []
    },
    {
      "cell_type": "markdown",
      "metadata": {
        "id": "FHSiqaZp8DC1"
      },
      "source": [
        "### Assessing Data"
      ]
    },
    {
      "cell_type": "markdown",
      "source": [
        "Menilai Tabel day_df"
      ],
      "metadata": {
        "id": "JaH3JHiRn5JO"
      }
    },
    {
      "cell_type": "code",
      "source": [
        "day_df.info()"
      ],
      "metadata": {
        "id": "ax-3tEjc9Cj1"
      },
      "execution_count": null,
      "outputs": []
    },
    {
      "cell_type": "code",
      "source": [
        "day_df.isna().sum()"
      ],
      "metadata": {
        "id": "9RySO-QHowj-"
      },
      "execution_count": null,
      "outputs": []
    },
    {
      "cell_type": "code",
      "source": [
        "print(\"Jumlah duplikasi: \", day_df.duplicated().sum())"
      ],
      "metadata": {
        "id": "W_eadU0fo5N2"
      },
      "execution_count": null,
      "outputs": []
    },
    {
      "cell_type": "code",
      "source": [
        "day_df.describe()"
      ],
      "metadata": {
        "id": "ZvYmpPoRo_oV"
      },
      "execution_count": null,
      "outputs": []
    },
    {
      "cell_type": "markdown",
      "source": [
        "**Menilai Tabel** hour_df"
      ],
      "metadata": {
        "id": "8zDKeGRUpZu1"
      }
    },
    {
      "cell_type": "code",
      "source": [
        "hour_df.info()"
      ],
      "metadata": {
        "id": "LpvADxa3pelV"
      },
      "execution_count": null,
      "outputs": []
    },
    {
      "cell_type": "code",
      "source": [
        "hour_df.nunique()"
      ],
      "metadata": {
        "id": "lxLIoTdJpiuV"
      },
      "execution_count": null,
      "outputs": []
    },
    {
      "cell_type": "code",
      "source": [
        "print(\"Jumlah duplikasi: \",hour_df.duplicated().sum())\n",
        "hour_df.describe()"
      ],
      "metadata": {
        "id": "0PQykDGXpr8F"
      },
      "execution_count": null,
      "outputs": []
    },
    {
      "cell_type": "markdown",
      "metadata": {
        "id": "EhN5R4hr8DC1"
      },
      "source": [
        "### Cleaning Data"
      ]
    },
    {
      "cell_type": "markdown",
      "source": [
        "**Membersihkan Tabel** day_df"
      ],
      "metadata": {
        "id": "P8jxoyi7p7HN"
      }
    },
    {
      "cell_type": "markdown",
      "source": [
        "Duplicate Data"
      ],
      "metadata": {
        "id": "jr3PhhtZqCq0"
      }
    },
    {
      "cell_type": "code",
      "source": [
        "day_df.duplicated().sum()"
      ],
      "metadata": {
        "id": "jVnYpprE9Evz",
        "colab": {
          "base_uri": "https://localhost:8080/"
        },
        "outputId": "bbb3356c-5057-4137-d038-bad332d53f71"
      },
      "execution_count": null,
      "outputs": [
        {
          "output_type": "execute_result",
          "data": {
            "text/plain": [
              "0"
            ]
          },
          "metadata": {},
          "execution_count": 32
        }
      ]
    },
    {
      "cell_type": "code",
      "source": [
        "day_df.drop_duplicates(inplace=True)"
      ],
      "metadata": {
        "id": "il660hWYqKNF"
      },
      "execution_count": null,
      "outputs": []
    },
    {
      "cell_type": "code",
      "source": [
        "print(\"Jumlah duplikasi: \", day_df.duplicated().sum())"
      ],
      "metadata": {
        "colab": {
          "base_uri": "https://localhost:8080/"
        },
        "id": "aQkNb8yVqPlt",
        "outputId": "3fbae279-8485-49bc-fe58-78bed0139818"
      },
      "execution_count": null,
      "outputs": [
        {
          "output_type": "stream",
          "name": "stdout",
          "text": [
            "Jumlah duplikasi:  0\n"
          ]
        }
      ]
    },
    {
      "cell_type": "markdown",
      "source": [
        "**Missing Values**"
      ],
      "metadata": {
        "id": "irchyztxqTTW"
      }
    },
    {
      "cell_type": "markdown",
      "source": [
        "**Membersihkan Tabel** hour_df"
      ],
      "metadata": {
        "id": "4TRLigt7sIgn"
      }
    },
    {
      "cell_type": "markdown",
      "source": [
        "Duplicate Data"
      ],
      "metadata": {
        "id": "wbMILhtosIgo"
      }
    },
    {
      "cell_type": "code",
      "source": [
        "day_df.isna().sum()"
      ],
      "metadata": {
        "id": "4l_9aq-iqSD9"
      },
      "execution_count": null,
      "outputs": []
    },
    {
      "cell_type": "code",
      "source": [
        "day_df.describe()"
      ],
      "metadata": {
        "id": "0DG-gr5-rA5t"
      },
      "execution_count": null,
      "outputs": []
    },
    {
      "cell_type": "markdown",
      "source": [
        "**Insight:**\n",
        "- Karena tidak ada data yang terduplikasi maka tidak diperlukan cleaning data"
      ],
      "metadata": {
        "id": "Q_5ejIqckiSP"
      }
    },
    {
      "cell_type": "code",
      "source": [
        "hour_df.duplicated().sum()"
      ],
      "metadata": {
        "colab": {
          "base_uri": "https://localhost:8080/"
        },
        "outputId": "0434dd20-3e0f-4224-fea9-d804a67ba028",
        "id": "gUE8BPaLr4ah"
      },
      "execution_count": null,
      "outputs": [
        {
          "output_type": "execute_result",
          "data": {
            "text/plain": [
              "0"
            ]
          },
          "metadata": {},
          "execution_count": 38
        }
      ]
    },
    {
      "cell_type": "code",
      "source": [
        "hour_df.drop_duplicates(inplace=True)"
      ],
      "metadata": {
        "id": "NlEzSejMr4ai"
      },
      "execution_count": null,
      "outputs": []
    },
    {
      "cell_type": "code",
      "source": [
        "print(\"Jumlah duplikasi: \", hour_df.duplicated().sum())"
      ],
      "metadata": {
        "id": "Y3SLu-ZLr4aj"
      },
      "execution_count": null,
      "outputs": []
    },
    {
      "cell_type": "markdown",
      "source": [
        "**Missing Values**"
      ],
      "metadata": {
        "id": "-QLpPRLXr4aj"
      }
    },
    {
      "cell_type": "code",
      "source": [
        "hour_df.isna().sum()"
      ],
      "metadata": {
        "id": "zazLSBCnr4aj"
      },
      "execution_count": null,
      "outputs": []
    },
    {
      "cell_type": "code",
      "source": [
        "hour_df.describe()"
      ],
      "metadata": {
        "id": "kcFl-lAQr4ak"
      },
      "execution_count": null,
      "outputs": []
    },
    {
      "cell_type": "markdown",
      "source": [
        "**Insight:**\n",
        "- Karena tidak ada data yang terduplikasi maka tidak diperlukan cleaning data"
      ],
      "metadata": {
        "id": "MxwbSlXhr4ak"
      }
    },
    {
      "cell_type": "markdown",
      "metadata": {
        "id": "gp-Y6wU38DC1"
      },
      "source": [
        "## Exploratory Data Analysis (EDA)"
      ]
    },
    {
      "cell_type": "markdown",
      "metadata": {
        "id": "MW7WF2kr8DC1"
      },
      "source": [
        "### Explore day_df dan hour_df"
      ]
    },
    {
      "cell_type": "code",
      "execution_count": null,
      "metadata": {
        "id": "e9CQCZjk8DC2"
      },
      "outputs": [],
      "source": [
        "day_info = day_df.info()"
      ]
    },
    {
      "cell_type": "code",
      "source": [
        "day_missing = day_df.isnull().sum()"
      ],
      "metadata": {
        "id": "0pVIKYRXufDU"
      },
      "execution_count": null,
      "outputs": []
    },
    {
      "cell_type": "code",
      "source": [
        "hour_info = hour_df.info()"
      ],
      "metadata": {
        "id": "IQz9y9HGuMIU"
      },
      "execution_count": null,
      "outputs": []
    },
    {
      "cell_type": "code",
      "source": [
        "hour_missing = hour_df.isnull().sum()"
      ],
      "metadata": {
        "id": "pZ6VqGbHujs8"
      },
      "execution_count": null,
      "outputs": []
    },
    {
      "cell_type": "code",
      "source": [
        "day_df['dteday'] = pd.to_datetime(day_df['dteday'])"
      ],
      "metadata": {
        "id": "8YYuUWmXutWM"
      },
      "execution_count": null,
      "outputs": []
    },
    {
      "cell_type": "code",
      "source": [
        "(day_df.dtypes['dteday'])"
      ],
      "metadata": {
        "id": "QtYH8QVsu8ck"
      },
      "execution_count": null,
      "outputs": []
    },
    {
      "cell_type": "code",
      "source": [
        "hour_df['dteday'] = pd.to_datetime(hour_df['dteday'])"
      ],
      "metadata": {
        "id": "w0O-QjC2uw4O"
      },
      "execution_count": null,
      "outputs": []
    },
    {
      "cell_type": "code",
      "source": [
        "(hour_df.dtypes['dteday'])"
      ],
      "metadata": {
        "id": "o7r6Q7chu2bm"
      },
      "execution_count": null,
      "outputs": []
    },
    {
      "cell_type": "markdown",
      "metadata": {
        "id": "zsyZjqak8DC2"
      },
      "source": [
        "## Visualization & Explanatory Analysis"
      ]
    },
    {
      "cell_type": "markdown",
      "source": [
        "### Pengaruh cuaca terhadap jumlah penyewaan sepeda"
      ],
      "metadata": {
        "id": "246V--caxoer"
      }
    },
    {
      "cell_type": "code",
      "source": [
        "# Menghitung rata-rata penyewaan sepeda berdasarkan kondisi cuaca\n",
        "weather_avg = day_df.groupby('weathersit')['cnt'].mean().reset_index()\n",
        "\n",
        "weather_labels = {\n",
        "    1: 'Cerah / Sedikit Berawan',\n",
        "    2: 'Mendung',\n",
        "    3: 'Hujan Ringan / Salju Ringan',\n",
        "    4: 'Hujan Lebat / Badai'\n",
        "}\n",
        "weather_avg['weathersit'] = weather_avg['weathersit'].map(weather_labels)\n",
        "\n",
        "# Visualisasi pengaruh cuaca terhadap jumlah penyewaan sepeda\n",
        "plt.figure(figsize=(8, 5))\n",
        "sns.barplot(data=weather_avg, x='weathersit', y='cnt')\n",
        "plt.title('Pengaruh Cuaca Terhadap Jumlah Penyewaan Sepeda')\n",
        "plt.xlabel('Kondisi Cuaca')\n",
        "plt.ylabel('Rata-rata Penyewaan Sepeda')\n",
        "plt.xticks(rotation=20)\n",
        "plt.show()\n",
        "\n",
        "# Menampilkan data rata-rata penyewaan per kondisi cuaca\n",
        "weather_avg.sort_values(by='cnt', ascending=False)"
      ],
      "metadata": {
        "id": "ciOrNsdhxnJs"
      },
      "execution_count": null,
      "outputs": []
    },
    {
      "cell_type": "markdown",
      "source": [
        "### Perbedaan pola penyewaan antara hari kerja dan akhir pekan"
      ],
      "metadata": {
        "id": "RsAr5ie9ynDr"
      }
    },
    {
      "cell_type": "code",
      "source": [
        "# Menambah kolom baru untuk menunjukkan akhir pekan atau hari kerja\n",
        "day_df['is_weekend'] = day_df['weekday'].apply(lambda x: 1 if x == 0 or x == 6 else 0)\n",
        "\n",
        "# Menghitung rata-rata penyewaan untuk hari kerja dan akhir pekan\n",
        "weekend_avg = day_df.groupby('is_weekend')['cnt'].mean().reset_index()\n",
        "weekend_avg['is_weekend'] = weekend_avg['is_weekend'].map({0: 'Hari Kerja', 1: 'Akhir Pekan'})\n",
        "\n",
        "# Visualisasi perbedaan penyewaan antara hari kerja dan akhir pekan\n",
        "plt.figure(figsize=(6, 4))\n",
        "sns.barplot(data=weekend_avg, x='is_weekend', y='cnt')\n",
        "plt.title('Perbandingan Penyewaan Sepeda: Hari Kerja vs Akhir Pekan')\n",
        "plt.xlabel('Jenis Hari')\n",
        "plt.ylabel('Rata-rata Penyewaan Sepeda')\n",
        "plt.show()\n",
        "\n",
        "# Menampilkan data rata-rata penyewaan per jenis hari\n",
        "weekend_avg.sort_values(by='cnt', ascending=False)"
      ],
      "metadata": {
        "id": "3HsKtCz5zH_U"
      },
      "execution_count": null,
      "outputs": []
    },
    {
      "cell_type": "markdown",
      "metadata": {
        "id": "HZxOiQ6n8DC2"
      },
      "source": [
        "### Pertanyaan 1: Bagaimana pengaruh cuaca terhadap jumlah penyewaan sepeda?"
      ]
    },
    {
      "cell_type": "markdown",
      "source": [
        "**Hasil Analisis Pengaruh Cuaca terhadap Penyewaan Sepeda**\n",
        "- Cuaca cerah atau sedikit berawan memiliki rata-rata penyewaan tertinggi (±4877 sepeda).\n",
        "- Cuaca mendung sedikit lebih rendah (±4036 sepeda).\n",
        "- Hujan ringan atau salju ringan secara signifikan menurunkan penyewaan (±1803 sepeda).\n",
        "- Tidak ada data untuk kondisi hujan lebat atau badai (kategori 4)."
      ],
      "metadata": {
        "id": "JhBp6z9U0RYj"
      }
    },
    {
      "cell_type": "markdown",
      "metadata": {
        "id": "DgHI7CiU8DC2"
      },
      "source": [
        "### Pertanyaan 2: Apakah terdapat perbedaan pola penyewaan antara hari kerja dan akhir pekan?"
      ]
    },
    {
      "cell_type": "markdown",
      "source": [
        "**Hasil Analisis Penyewaan Sepeda: Hari Kerja vs Akhir Pekan**\n",
        "- Hari kerja memiliki rata-rata penyewaan sedikit lebih tinggi (±4551 sepeda)\n",
        "dibandingkan dengan akhir pekan (±4390 sepeda).\n",
        "- Perbedaannya tidak terlalu signifikan, namun menunjukkan tren sedikit lebih ramai saat hari kerja."
      ],
      "metadata": {
        "id": "QW6UprlC0Vqj"
      }
    },
    {
      "cell_type": "markdown",
      "source": [
        "### **Conclussion**"
      ],
      "metadata": {
        "id": "HGpmgj2zYiZJ"
      }
    }
  ],
  "metadata": {
    "kernelspec": {
      "display_name": "Python 3",
      "language": "python",
      "name": "python3"
    },
    "language_info": {
      "name": "python",
      "version": "3.8.0 (tags/v3.8.0:fa919fd, Oct 14 2019, 19:21:23) [MSC v.1916 32 bit (Intel)]"
    },
    "orig_nbformat": 4,
    "vscode": {
      "interpreter": {
        "hash": "972b3bf27e332e87b5379f2791f6ef9dfc79c71018c370b0d7423235e20fe4d7"
      }
    },
    "colab": {
      "provenance": [],
      "include_colab_link": true
    }
  },
  "nbformat": 4,
  "nbformat_minor": 0
}